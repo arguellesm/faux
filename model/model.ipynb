{
 "cells": [
  {
   "cell_type": "markdown",
   "id": "7197b7f6",
   "metadata": {},
   "source": [
    "# Health factchecker \n",
    "\n",
    "\n",
    "We are using the dataset provided by Enyan Dai in [FakeHealth](https://github.com/EnyanDai/FakeHealth), which contains health articles rated from 0 (mostly or totally fake) to 5 (mostly or totally true). The dataset was originally crafted to supplement the paper [Ginger Cannot Cure Cancer: Battling Fake Health News with a Comprehensive Data Repository](https://arxiv.org/abs/2002.00837) by Dai, Sun and Wang (2020). Additionally, it was also used by Kumari et al. (2021) in the paper [Debunking health fake news with domain specific pre-trained model](https://www.sciencedirect.com/science/article/pii/S2666285X21000662)."
   ]
  },
  {
   "cell_type": "markdown",
   "id": "519cf66f",
   "metadata": {},
   "source": [
    "## Data"
   ]
  },
  {
   "cell_type": "code",
   "execution_count": 1,
   "id": "f7ff9164",
   "metadata": {},
   "outputs": [
    {
     "name": "stderr",
     "output_type": "stream",
     "text": [
      "[nltk_data] Downloading package punkt to /home/mer/nltk_data...\n",
      "[nltk_data]   Package punkt is already up-to-date!\n",
      "[nltk_data] Downloading package stopwords to /home/mer/nltk_data...\n",
      "[nltk_data]   Package stopwords is already up-to-date!\n",
      "[nltk_data] Downloading package wordnet to /home/mer/nltk_data...\n",
      "[nltk_data]   Package wordnet is already up-to-date!\n"
     ]
    }
   ],
   "source": [
    "# warnings\n",
    "import warnings\n",
    "\n",
    "# data\n",
    "import numpy as np\n",
    "import pandas as pd\n",
    "\n",
    "# plotting\n",
    "import seaborn as sns\n",
    "\n",
    "# preprocessing\n",
    "import nltk\n",
    "import re\n",
    "\n",
    "# algorithms\n",
    "from sklearn.pipeline import Pipeline\n",
    "from sklearn.model_selection import train_test_split\n",
    "from sklearn.feature_extraction.text import TfidfTransformer, CountVectorizer\n",
    "from sklearn.naive_bayes import MultinomialNB\n",
    "\n",
    "# metrics\n",
    "from sklearn.metrics import accuracy_score, confusion_matrix, classification_report\n",
    "\n",
    "# nltk requirements\n",
    "nltk.download('punkt')\n",
    "nltk.download('stopwords')\n",
    "nltk.download('wordnet')\n",
    "\n",
    "# ignore warnings\n",
    "warnings.filterwarnings('ignore')\n",
    "\n",
    "# create dataset\n",
    "dataset = pd.read_csv('../data/fake-health.csv', index_col=0)"
   ]
  },
  {
   "cell_type": "code",
   "execution_count": 2,
   "id": "453a363f",
   "metadata": {
    "scrolled": true
   },
   "outputs": [
    {
     "data": {
      "text/html": [
       "<div>\n",
       "<style scoped>\n",
       "    .dataframe tbody tr th:only-of-type {\n",
       "        vertical-align: middle;\n",
       "    }\n",
       "\n",
       "    .dataframe tbody tr th {\n",
       "        vertical-align: top;\n",
       "    }\n",
       "\n",
       "    .dataframe thead th {\n",
       "        text-align: right;\n",
       "    }\n",
       "</style>\n",
       "<table border=\"1\" class=\"dataframe\">\n",
       "  <thead>\n",
       "    <tr style=\"text-align: right;\">\n",
       "      <th></th>\n",
       "      <th>headline</th>\n",
       "      <th>author</th>\n",
       "      <th>source</th>\n",
       "      <th>original title</th>\n",
       "      <th>link</th>\n",
       "      <th>text</th>\n",
       "      <th>rating</th>\n",
       "    </tr>\n",
       "  </thead>\n",
       "  <tbody>\n",
       "    <tr>\n",
       "      <th>0</th>\n",
       "      <td>Implantable device ‘aids weight loss’? Let’s w...</td>\n",
       "      <td>[]</td>\n",
       "      <td>University of Wisconsin-Madison</td>\n",
       "      <td>Tiny implantable device short-circuits hunger ...</td>\n",
       "      <td>https://www.healthnewsreview.org/news-release-...</td>\n",
       "      <td>MADISON, Wis. -- More than 700 million adults ...</td>\n",
       "      <td>2</td>\n",
       "    </tr>\n",
       "    <tr>\n",
       "      <th>1</th>\n",
       "      <td>Summary of CRISPR lung cancer research downpla...</td>\n",
       "      <td>[]</td>\n",
       "      <td>Christiana Care Health System</td>\n",
       "      <td>Scientists report CRISPR restores effectivenes...</td>\n",
       "      <td>https://www.healthnewsreview.org/news-release-...</td>\n",
       "      <td>Wilmington, DE, December 17, 2018 - The CRISPR...</td>\n",
       "      <td>3</td>\n",
       "    </tr>\n",
       "    <tr>\n",
       "      <th>2</th>\n",
       "      <td>‘Millions’ with bipolar disorder could be help...</td>\n",
       "      <td>[]</td>\n",
       "      <td>American College of Neuropsychophamacology</td>\n",
       "      <td>Probiotics could help millions of patients suf...</td>\n",
       "      <td>https://www.healthnewsreview.org/news-release-...</td>\n",
       "      <td>About 3 million people in the US are diagnosed...</td>\n",
       "      <td>1</td>\n",
       "    </tr>\n",
       "    <tr>\n",
       "      <th>3</th>\n",
       "      <td>Summary of dairy-enhanced Mediterranean diet s...</td>\n",
       "      <td>[]</td>\n",
       "      <td>University of South Australia</td>\n",
       "      <td>Yes Please to Yogurt and Cheese: The New Impro...</td>\n",
       "      <td>https://www.healthnewsreview.org/news-release-...</td>\n",
       "      <td>Newswise — Thousands of people can take heart ...</td>\n",
       "      <td>1</td>\n",
       "    </tr>\n",
       "    <tr>\n",
       "      <th>4</th>\n",
       "      <td>Johns Hopkins prematurely heralds a ‘promising...</td>\n",
       "      <td>[]</td>\n",
       "      <td>Johns Hopkins Medicine</td>\n",
       "      <td>Johns Hopkins team identifies promising diagno...</td>\n",
       "      <td>https://www.healthnewsreview.org/news-release-...</td>\n",
       "      <td>Researchers at Johns Hopkins Medicine have ide...</td>\n",
       "      <td>3</td>\n",
       "    </tr>\n",
       "  </tbody>\n",
       "</table>\n",
       "</div>"
      ],
      "text/plain": [
       "                                            headline author  \\\n",
       "0  Implantable device ‘aids weight loss’? Let’s w...     []   \n",
       "1  Summary of CRISPR lung cancer research downpla...     []   \n",
       "2  ‘Millions’ with bipolar disorder could be help...     []   \n",
       "3  Summary of dairy-enhanced Mediterranean diet s...     []   \n",
       "4  Johns Hopkins prematurely heralds a ‘promising...     []   \n",
       "\n",
       "                                       source  \\\n",
       "0             University of Wisconsin-Madison   \n",
       "1               Christiana Care Health System   \n",
       "2  American College of Neuropsychophamacology   \n",
       "3               University of South Australia   \n",
       "4                      Johns Hopkins Medicine   \n",
       "\n",
       "                                      original title  \\\n",
       "0  Tiny implantable device short-circuits hunger ...   \n",
       "1  Scientists report CRISPR restores effectivenes...   \n",
       "2  Probiotics could help millions of patients suf...   \n",
       "3  Yes Please to Yogurt and Cheese: The New Impro...   \n",
       "4  Johns Hopkins team identifies promising diagno...   \n",
       "\n",
       "                                                link  \\\n",
       "0  https://www.healthnewsreview.org/news-release-...   \n",
       "1  https://www.healthnewsreview.org/news-release-...   \n",
       "2  https://www.healthnewsreview.org/news-release-...   \n",
       "3  https://www.healthnewsreview.org/news-release-...   \n",
       "4  https://www.healthnewsreview.org/news-release-...   \n",
       "\n",
       "                                                text  rating  \n",
       "0  MADISON, Wis. -- More than 700 million adults ...       2  \n",
       "1  Wilmington, DE, December 17, 2018 - The CRISPR...       3  \n",
       "2  About 3 million people in the US are diagnosed...       1  \n",
       "3  Newswise — Thousands of people can take heart ...       1  \n",
       "4  Researchers at Johns Hopkins Medicine have ide...       3  "
      ]
     },
     "execution_count": 2,
     "metadata": {},
     "output_type": "execute_result"
    }
   ],
   "source": [
    "# show dataset\n",
    "dataset.head(5)"
   ]
  },
  {
   "cell_type": "code",
   "execution_count": 3,
   "id": "4bb59436",
   "metadata": {
    "scrolled": true
   },
   "outputs": [
    {
     "data": {
      "text/plain": [
       "<AxesSubplot:xlabel='rating', ylabel='count'>"
      ]
     },
     "execution_count": 3,
     "metadata": {},
     "output_type": "execute_result"
    },
    {
     "data": {
      "image/png": "[encoded data removed]",
      "text/plain": [
       "<Figure size 432x288 with 1 Axes>"
      ]
     },
     "metadata": {
      "needs_background": "light"
     },
     "output_type": "display_data"
    }
   ],
   "source": [
    "# plot by rating\n",
    "sns.countplot(dataset.rating)"
   ]
  },
  {
   "cell_type": "code",
   "execution_count": 4,
   "id": "78a6601c",
   "metadata": {},
   "outputs": [],
   "source": [
    "# new dataset with article content and rating only\n",
    "rated_content = dataset[['text', 'rating']].copy()\n",
    "\n",
    "# change rating from 0-5 to 0-1\n",
    "rated_content.rating = rated_content.rating.apply(lambda r: 0 if r<4 else 1)"
   ]
  },
  {
   "cell_type": "markdown",
   "id": "4eb9c79c",
   "metadata": {},
   "source": [
    "## Preprocessing"
   ]
  },
  {
   "cell_type": "code",
   "execution_count": 5,
   "id": "8aad7183",
   "metadata": {},
   "outputs": [],
   "source": [
    "def clean(text):\n",
    "    \"\"\"\n",
    "    Transforms text to lower case and removes html tags, punctuation\n",
    "    marks, symbols and numbers.\n",
    "    \n",
    "    Parameters\n",
    "    ----------\n",
    "    text : str\n",
    "        Text to clean.\n",
    "        \n",
    "    Returns\n",
    "    -------\n",
    "    text : str\n",
    "        Clean text.\n",
    "    \"\"\"\n",
    "    \n",
    "    text = str(text)\n",
    "    text = text.lower()\n",
    "    \n",
    "    # html tags\n",
    "    text = re.sub(r'<.*?>',' ',text) \n",
    "    # punctuation marks\n",
    "    text = re.sub(r'[^A-Za-z ]+', '', text)\n",
    "    \n",
    "    return text"
   ]
  },
  {
   "cell_type": "markdown",
   "id": "92457a4e",
   "metadata": {},
   "source": [
    "### Text cleaning"
   ]
  },
  {
   "cell_type": "code",
   "execution_count": 6,
   "id": "35e60283",
   "metadata": {},
   "outputs": [
    {
     "name": "stdout",
     "output_type": "stream",
     "text": [
      "Number of duplicated articles removed: 77\n"
     ]
    }
   ],
   "source": [
    "# clean text\n",
    "rated_content.text = rated_content.text.apply(lambda t: clean(t))\n",
    "\n",
    "# copy of the unclean dataset\n",
    "unclean_rated_content = rated_content.copy()\n",
    "\n",
    "# remove duplicates\n",
    "rated_content = rated_content.drop_duplicates(subset='text')\n",
    "\n",
    "print('Number of duplicated articles removed: {}'.format(len(unclean_rated_content)-len(rated_content)))"
   ]
  },
  {
   "cell_type": "markdown",
   "id": "b3313197",
   "metadata": {},
   "source": [
    "### Tokenization and lemmatizacion"
   ]
  },
  {
   "cell_type": "code",
   "execution_count": 7,
   "id": "a27a7272",
   "metadata": {},
   "outputs": [],
   "source": [
    "# tokenize\n",
    "rated_content.text = rated_content.text.apply(lambda t: nltk.word_tokenize(str(t)))\n",
    "\n",
    "\n",
    "stopwords = nltk.corpus.stopwords.words(\"english\")\n",
    "lemmatizer = nltk.stem.WordNetLemmatizer()\n",
    "\n",
    "# lemmatize\n",
    "rated_content.text = rated_content.text.apply(lambda ws: [lemmatizer.lemmatize(w) for w in ws if w not in stopwords])"
   ]
  },
  {
   "cell_type": "markdown",
   "id": "78cb244c",
   "metadata": {},
   "source": [
    "### Back to text"
   ]
  },
  {
   "cell_type": "code",
   "execution_count": 8,
   "id": "a304a272",
   "metadata": {},
   "outputs": [],
   "source": [
    "rated_content.text = rated_content.text.apply(lambda t: ' '.join(t))"
   ]
  },
  {
   "cell_type": "markdown",
   "id": "71986bc2",
   "metadata": {},
   "source": [
    "## Model"
   ]
  },
  {
   "cell_type": "markdown",
   "id": "93bd4059",
   "metadata": {},
   "source": [
    "### Train and test sets"
   ]
  },
  {
   "cell_type": "code",
   "execution_count": 9,
   "id": "a58e9ab2",
   "metadata": {},
   "outputs": [],
   "source": [
    "x = rated_content.text\n",
    "y = rated_content.rating\n",
    "\n",
    "x_train, x_test, y_train, y_test = train_test_split(x, y, test_size=0.20, random_state=0)"
   ]
  },
  {
   "cell_type": "markdown",
   "id": "d4f3e203",
   "metadata": {},
   "source": [
    "### Multinomial Naive Bayes"
   ]
  },
  {
   "cell_type": "code",
   "execution_count": 17,
   "id": "057b418c",
   "metadata": {},
   "outputs": [
    {
     "name": "stdout",
     "output_type": "stream",
     "text": [
      "Accuracy: 0.7129629629629629\n",
      "Classification report: \n",
      "              precision    recall  f1-score   support\n",
      "\n",
      "           0       0.71      1.00      0.83       308\n",
      "           1       0.00      0.00      0.00       124\n",
      "\n",
      "    accuracy                           0.71       432\n",
      "   macro avg       0.36      0.50      0.42       432\n",
      "weighted avg       0.51      0.71      0.59       432\n",
      "\n"
     ]
    }
   ],
   "source": [
    "mnb = Pipeline([('vect', CountVectorizer()),\n",
    "                ('tfidf', TfidfTransformer()),\n",
    "                ('mnb', MultinomialNB())])\n",
    "\n",
    "mnb.fit(x_train, y_train)\n",
    "\n",
    "mb_pred = mnb.predict(x_test)\n",
    "\n",
    "print('Accuracy: {}'.format(accuracy_score(y_test, mb_pred)))\n",
    "print('Classification report: \\n{}'.format(classification_report(y_test, mb_pred)))"
   ]
  }
 ],
 "metadata": {
  "kernelspec": {
   "display_name": "Python 3 (ipykernel)",
   "language": "python",
   "name": "python3"
  },
  "language_info": {
   "codemirror_mode": {
    "name": "ipython",
    "version": 3
   },
   "file_extension": ".py",
   "mimetype": "text/x-python",
   "name": "python",
   "nbconvert_exporter": "python",
   "pygments_lexer": "ipython3",
   "version": "3.9.7"
  }
 },
 "nbformat": 4,
 "nbformat_minor": 5
}
